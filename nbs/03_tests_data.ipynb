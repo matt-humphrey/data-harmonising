{
 "cells": [
  {
   "cell_type": "raw",
   "metadata": {
    "vscode": {
     "languageId": "raw"
    }
   },
   "source": [
    "---\n",
    "description: Functions for comparing and validating changes to raw data in a dataset\n",
    "output-file: tests-data.html\n",
    "title: Data Tests\n",
    "\n",
    "---\n",
    "\n"
   ]
  },
  {
   "cell_type": "code",
   "execution_count": 1,
   "metadata": {},
   "outputs": [],
   "source": [
    "#| default_exp tests_data"
   ]
  },
  {
   "cell_type": "code",
   "execution_count": 2,
   "metadata": {},
   "outputs": [],
   "source": [
    "#| hide\n",
    "from nbdev.showdoc import *\n",
    "from fastcore.test import *"
   ]
  },
  {
   "cell_type": "code",
   "execution_count": 3,
   "metadata": {},
   "outputs": [],
   "source": [
    "#| export\n",
    "from fastcore.utils import *\n",
    "import pandas as pd\n",
    "from pandas import DataFrame\n",
    "import numpy as np\n",
    "from typing import Dict, List, Tuple, Any\n",
    "\n",
    "from data_harmonising.data import *\n",
    "from data_harmonising.transforms import *\n",
    "\n",
    "import raine_tools as rn"
   ]
  },
  {
   "cell_type": "markdown",
   "metadata": {},
   "source": [
    "# Tests"
   ]
  },
  {
   "cell_type": "markdown",
   "metadata": {},
   "source": [
    "## Data"
   ]
  },
  {
   "cell_type": "code",
   "execution_count": 4,
   "metadata": {},
   "outputs": [],
   "source": [
    "INPUT = \"../data/test/input.sav\"\n",
    "OUTPUT = \"../data/test/output.sav\""
   ]
  },
  {
   "cell_type": "markdown",
   "metadata": {},
   "source": [
    "Create test data"
   ]
  },
  {
   "cell_type": "code",
   "execution_count": 5,
   "metadata": {},
   "outputs": [],
   "source": [
    "data = {\n",
    "    \"ID\":   [0, 1, 2, 3, 4],\n",
    "    \"ABC1\": [1, 2, 3, 4, 5],\n",
    "    \"ABC2\": [1, 2, 3, 4, 5],\n",
    "    \"CBA3\": [1, 2, 3, 4, 5],\n",
    "    \"ABC4\": [1, 2, 3, 4, 5],\n",
    "    \"ABC5\": [1, 2, 3, 4, 5], \n",
    "}\n",
    "\n",
    "df = DataFrame(data)\n",
    "write_sav(INPUT, df, meta=None)"
   ]
  },
  {
   "cell_type": "markdown",
   "metadata": {},
   "source": [
    "Alter the data for comparison"
   ]
  },
  {
   "cell_type": "code",
   "execution_count": 6,
   "metadata": {},
   "outputs": [],
   "source": [
    "df, meta = read_sav(INPUT, index=\"ID\")"
   ]
  },
  {
   "cell_type": "code",
   "execution_count": 7,
   "metadata": {},
   "outputs": [],
   "source": [
    "# conditions = [\n",
    "#     {\"condition\": 1, \"value\": 10},\n",
    "#     {\"condition\": lambda x: x > 3, \"value\": 1},\n",
    "#     {\"condition\": lambda x: 1 < x < 4, \"value\": 5}\n",
    "# ]\n",
    "\n",
    "# CREATE = [\n",
    "#     {\n",
    "#         \"target_col\": \"ABC6\",\n",
    "#         \"condition_col\": \"ABC1\",\n",
    "#         \"conditions\": conditions\n",
    "#     },\n",
    "#     {\n",
    "#         \"target_col\": \"ABC7\",\n",
    "#         \"condition_col\": \"ABC1\",\n",
    "#         \"conditions\": conditions\n",
    "#     }\n",
    "# ]\n",
    "\n",
    "# df, meta = create_variables(df, meta, CREATE)"
   ]
  },
  {
   "cell_type": "code",
   "execution_count": 8,
   "metadata": {},
   "outputs": [],
   "source": [
    "CREATE = [\"ABC6\", \"ABC7\"]\n",
    "df, meta = create_variables(df, meta, CREATE)"
   ]
  },
  {
   "cell_type": "code",
   "execution_count": 9,
   "metadata": {},
   "outputs": [],
   "source": [
    "DELETE = [\"ABC4\", \"ABC5\"]\n",
    "df, meta = delete_variables(df, meta, DELETE)"
   ]
  },
  {
   "cell_type": "code",
   "execution_count": 10,
   "metadata": {},
   "outputs": [],
   "source": [
    "RENAME = {\"CBA3\": \"ABC3\"}\n",
    "df, meta = rename_variables(df, meta, RENAME)"
   ]
  },
  {
   "cell_type": "markdown",
   "metadata": {},
   "source": [
    "Next, introduce changes to the raw data"
   ]
  },
  {
   "cell_type": "code",
   "execution_count": 11,
   "metadata": {},
   "outputs": [],
   "source": [
    "# Case 1: changing one value for one variable\n",
    "df.loc[0, [\"ABC1\"]] = 2\n",
    "# Case 2: changing multiple values for one variable\n",
    "df.loc[[0, 1], [\"ABC2\"]] = 0\n",
    "# Case 3: changing one value for multiple variables\n",
    "df.loc[[4], [\"ABC1\", \"ABC2\"]] = 9\n",
    "# Case 4: changing multiples values for multiple variables\n",
    "df.loc[[2, 3], [\"ABC1\", \"ABC2\"]] = -88\n",
    "# Case 5: changing values for a renamed variable\n",
    "df.loc[0, [\"ABC3\"]] = 0"
   ]
  },
  {
   "cell_type": "code",
   "execution_count": 12,
   "metadata": {},
   "outputs": [],
   "source": [
    "write_sav(OUTPUT, df, meta)"
   ]
  },
  {
   "cell_type": "markdown",
   "metadata": {},
   "source": [
    "Read and compare the files"
   ]
  },
  {
   "cell_type": "code",
   "execution_count": 13,
   "metadata": {},
   "outputs": [],
   "source": [
    "df_old, _ = read_sav(INPUT)\n",
    "df_new, _ = read_sav(OUTPUT)"
   ]
  },
  {
   "cell_type": "markdown",
   "metadata": {},
   "source": [
    "Check that the differences in variable names can all be attributed to the intentional changes; by creating, deleting, and renaming specified variables."
   ]
  },
  {
   "cell_type": "code",
   "execution_count": 14,
   "metadata": {},
   "outputs": [],
   "source": [
    "ADDED, REMOVED = reformat_crud(CREATE, RENAME, DELETE)"
   ]
  },
  {
   "cell_type": "code",
   "execution_count": 15,
   "metadata": {},
   "outputs": [],
   "source": [
    "#| export\n",
    "def test_columns(df1: DataFrame, # updated raw data\n",
    "                 df2: DataFrame, # original raw data\n",
    "                 added: List[str], # variables to be created\n",
    "                 removed: List[str], # old variables that were renamed\n",
    "                 ) -> None:\n",
    "    \"\"\"Verify only intended changes were made to columns.\"\"\"\n",
    "    unchanged = [col for col in df2.columns if col not in removed]\n",
    "\n",
    "    # Check all columns to be added exist\n",
    "    assert all([col in df1.columns for col in added])\n",
    "    # Check all columns to be removed do not exist\n",
    "    assert all([col not in df1.columns for col in removed])\n",
    "    # Check all other columns exist\n",
    "    assert all([col in df1.columns for col in unchanged])"
   ]
  },
  {
   "cell_type": "code",
   "execution_count": 16,
   "metadata": {},
   "outputs": [],
   "source": [
    "test_columns(df_new, df_old, ADDED, REMOVED)"
   ]
  },
  {
   "cell_type": "markdown",
   "metadata": {},
   "source": [
    "Next, we'll write tests that validate the actual raw data, comparing the original and updated data to ensure only intended changes were made."
   ]
  },
  {
   "cell_type": "code",
   "execution_count": 18,
   "metadata": {},
   "outputs": [],
   "source": [
    "#| export\n",
    "def verify_condition_changes(df: pd.DataFrame, #\n",
    "                             cols: List[str], #\n",
    "                             conds: Dict[str, Any], #\n",
    "                             val: int|str #\n",
    "                             ) -> None:\n",
    "    condition = pd.Series([True] * len(df), index=df.index)\n",
    "    for col, cond in conds.items():\n",
    "        if callable(cond):\n",
    "            condition &= df[col].apply(cond)\n",
    "        else:\n",
    "            condition &= (df[col] == cond)\n",
    "    assert np.all(df.loc[condition, cols].eq(val)), f\"Change not applied: {cols}, {conds}\"\n",
    "\n",
    "def verify_index_changes(df: pd.DataFrame, \n",
    "                         cols: List[str], #\n",
    "                         idx: List[int], #\n",
    "                         val: int|str #\n",
    "                         ) -> None:\n",
    "    assert np.all(df.loc[idx, cols].eq(val)), f\"Change not applied: {cols}, {idx}\"\n",
    "\n",
    "def verify_changes(df: pd.DataFrame, \n",
    "                   changes: List[Dict[str, Any]]\n",
    "                   ) -> None:\n",
    "    \"\"\"Process all explicitly defined changes to ensure they have been correctly implemented.\"\"\"\n",
    "    for change in changes:\n",
    "        match change:\n",
    "            case {\"columns\": cols, \"index\": idx, \"value\": val}:\n",
    "                verify_index_changes(df, cols, idx, val)\n",
    "            case {\"columns\": cols, \"conditions\": conds, \"value\": val}:\n",
    "                verify_condition_changes(df, cols, conds, val)\n",
    "            case _:\n",
    "                raise ValueError(f\"Unknown change format: {change}\")"
   ]
  },
  {
   "cell_type": "markdown",
   "metadata": {},
   "source": [
    "Verify that for corresponding columns and IDs specified, these changes were implemented.  \n",
    "Furthermore, verify that there are no other differences between the original and updated datasets."
   ]
  },
  {
   "cell_type": "code",
   "execution_count": 20,
   "metadata": {},
   "outputs": [],
   "source": [
    "CHANGES = [\n",
    "    {\"columns\": [\"ABC1\"], \"index\": [0], \"value\": 2},\n",
    "    {\"columns\": [\"ABC2\"], \"index\": [0, 1], \"value\": 0},\n",
    "    {\"columns\": [\"ABC1\", \"ABC2\"], \"index\": [4], \"value\": 9},\n",
    "    {\"columns\": [\"ABC1\", \"ABC2\"], \"index\": [2, 3], \"value\": -88},\n",
    "    {\"columns\": [\"ABC3\"], \"index\": [0], \"value\": 0},\n",
    "]\n",
    "\n",
    "verify_changes(df, CHANGES)"
   ]
  },
  {
   "cell_type": "markdown",
   "metadata": {},
   "source": [
    "We'll then ensure that this fails when attempting to verify incorrect changes."
   ]
  },
  {
   "cell_type": "code",
   "execution_count": 19,
   "metadata": {},
   "outputs": [
    {
     "name": "stdout",
     "output_type": "stream",
     "text": [
      "Incorrect changes were succesfully detected.\n"
     ]
    }
   ],
   "source": [
    "FALSE_CHANGES = [\n",
    "    {\n",
    "        \"columns\": [\"ABC1\"],\n",
    "        \"idx\": [0],\n",
    "        \"value\": -88,\n",
    "    },\n",
    "]\n",
    "\n",
    "try:\n",
    "    verify_changes(df, FALSE_CHANGES)\n",
    "    raise ValueError(\"Error: incorrect changes passed.\")\n",
    "except AssertionError:\n",
    "    print(\"Incorrect changes were succesfully detected.\")"
   ]
  },
  {
   "cell_type": "code",
   "execution_count": null,
   "metadata": {},
   "outputs": [],
   "source": []
  },
  {
   "cell_type": "code",
   "execution_count": 34,
   "metadata": {},
   "outputs": [
    {
     "ename": "KeyError",
     "evalue": "'G201_HOSP_N_1'",
     "output_type": "error",
     "traceback": [
      "\u001b[1;31m---------------------------------------------------------------------------\u001b[0m",
      "\u001b[1;31mKeyError\u001b[0m                                  Traceback (most recent call last)",
      "File \u001b[1;32mc:\\Users\\00113294\\Anaconda3\\envs\\my_env\\Lib\\site-packages\\pandas\\core\\indexes\\base.py:3805\u001b[0m, in \u001b[0;36mIndex.get_loc\u001b[1;34m(self, key)\u001b[0m\n\u001b[0;32m   3804\u001b[0m \u001b[38;5;28;01mtry\u001b[39;00m:\n\u001b[1;32m-> 3805\u001b[0m     \u001b[38;5;28;01mreturn\u001b[39;00m \u001b[38;5;28;43mself\u001b[39;49m\u001b[38;5;241;43m.\u001b[39;49m\u001b[43m_engine\u001b[49m\u001b[38;5;241;43m.\u001b[39;49m\u001b[43mget_loc\u001b[49m\u001b[43m(\u001b[49m\u001b[43mcasted_key\u001b[49m\u001b[43m)\u001b[49m\n\u001b[0;32m   3806\u001b[0m \u001b[38;5;28;01mexcept\u001b[39;00m \u001b[38;5;167;01mKeyError\u001b[39;00m \u001b[38;5;28;01mas\u001b[39;00m err:\n",
      "File \u001b[1;32mindex.pyx:167\u001b[0m, in \u001b[0;36mpandas._libs.index.IndexEngine.get_loc\u001b[1;34m()\u001b[0m\n",
      "File \u001b[1;32mindex.pyx:196\u001b[0m, in \u001b[0;36mpandas._libs.index.IndexEngine.get_loc\u001b[1;34m()\u001b[0m\n",
      "File \u001b[1;32mpandas\\\\_libs\\\\hashtable_class_helper.pxi:7081\u001b[0m, in \u001b[0;36mpandas._libs.hashtable.PyObjectHashTable.get_item\u001b[1;34m()\u001b[0m\n",
      "File \u001b[1;32mpandas\\\\_libs\\\\hashtable_class_helper.pxi:7089\u001b[0m, in \u001b[0;36mpandas._libs.hashtable.PyObjectHashTable.get_item\u001b[1;34m()\u001b[0m\n",
      "\u001b[1;31mKeyError\u001b[0m: 'G201_HOSP_N_1'",
      "\nThe above exception was the direct cause of the following exception:\n",
      "\u001b[1;31mKeyError\u001b[0m                                  Traceback (most recent call last)",
      "Cell \u001b[1;32mIn[34], line 4\u001b[0m\n\u001b[0;32m      1\u001b[0m CHANGES3 \u001b[38;5;241m=\u001b[39m [\n\u001b[0;32m      2\u001b[0m     {\n\u001b[0;32m      3\u001b[0m         \u001b[38;5;124m\"\u001b[39m\u001b[38;5;124mcolumns\u001b[39m\u001b[38;5;124m\"\u001b[39m: [\u001b[38;5;124m\"\u001b[39m\u001b[38;5;124mG201_HOSP_N_1\u001b[39m\u001b[38;5;124m\"\u001b[39m],\n\u001b[1;32m----> 4\u001b[0m         \u001b[38;5;124m\"\u001b[39m\u001b[38;5;124mconditions\u001b[39m\u001b[38;5;124m\"\u001b[39m: (\u001b[43mdf\u001b[49m\u001b[43m[\u001b[49m\u001b[38;5;124;43m\"\u001b[39;49m\u001b[38;5;124;43mG201_HOSP_N_1\u001b[39;49m\u001b[38;5;124;43m\"\u001b[39;49m\u001b[43m]\u001b[49m \u001b[38;5;241m==\u001b[39m \u001b[38;5;241m0\u001b[39m),\n\u001b[0;32m      5\u001b[0m         \u001b[38;5;124m\"\u001b[39m\u001b[38;5;124mvalue\u001b[39m\u001b[38;5;124m\"\u001b[39m: \u001b[38;5;241m88\u001b[39m\n\u001b[0;32m      6\u001b[0m     },\n\u001b[0;32m      7\u001b[0m     {\n\u001b[0;32m      8\u001b[0m         \u001b[38;5;124m\"\u001b[39m\u001b[38;5;124mcolumns\u001b[39m\u001b[38;5;124m\"\u001b[39m: [\u001b[38;5;124m\"\u001b[39m\u001b[38;5;124mG201_HOSP_N_2\u001b[39m\u001b[38;5;124m\"\u001b[39m, \u001b[38;5;124m\"\u001b[39m\u001b[38;5;124mG201_HOSP_N_3\u001b[39m\u001b[38;5;124m\"\u001b[39m, \u001b[38;5;124m\"\u001b[39m\u001b[38;5;124mG201_HOSP_N_4\u001b[39m\u001b[38;5;124m\"\u001b[39m, \u001b[38;5;124m\"\u001b[39m\u001b[38;5;124mG201_HOSP_N_5\u001b[39m\u001b[38;5;124m\"\u001b[39m, \u001b[38;5;124m\"\u001b[39m\u001b[38;5;124mG201_HOSP_N_6\u001b[39m\u001b[38;5;124m\"\u001b[39m],\n\u001b[0;32m      9\u001b[0m         \u001b[38;5;124m\"\u001b[39m\u001b[38;5;124mconditions\u001b[39m\u001b[38;5;124m\"\u001b[39m: (df[\u001b[38;5;124m\"\u001b[39m\u001b[38;5;124mG201_HOSP_N_2\u001b[39m\u001b[38;5;124m\"\u001b[39m] \u001b[38;5;241m==\u001b[39m \u001b[38;5;241m0\u001b[39m) \u001b[38;5;241m&\u001b[39m (df[\u001b[38;5;124m\"\u001b[39m\u001b[38;5;124mG201_HOSP_ICD9_2\u001b[39m\u001b[38;5;124m\"\u001b[39m] \u001b[38;5;241m==\u001b[39m \u001b[38;5;124m\"\u001b[39m\u001b[38;5;124m88888\u001b[39m\u001b[38;5;124m\"\u001b[39m),\n\u001b[0;32m     10\u001b[0m         \u001b[38;5;124m\"\u001b[39m\u001b[38;5;124mvalue\u001b[39m\u001b[38;5;124m\"\u001b[39m: \u001b[38;5;241m88\u001b[39m\n\u001b[0;32m     11\u001b[0m     }\n\u001b[0;32m     12\u001b[0m ]\n",
      "File \u001b[1;32mc:\\Users\\00113294\\Anaconda3\\envs\\my_env\\Lib\\site-packages\\pandas\\core\\frame.py:4102\u001b[0m, in \u001b[0;36mDataFrame.__getitem__\u001b[1;34m(self, key)\u001b[0m\n\u001b[0;32m   4100\u001b[0m \u001b[38;5;28;01mif\u001b[39;00m \u001b[38;5;28mself\u001b[39m\u001b[38;5;241m.\u001b[39mcolumns\u001b[38;5;241m.\u001b[39mnlevels \u001b[38;5;241m>\u001b[39m \u001b[38;5;241m1\u001b[39m:\n\u001b[0;32m   4101\u001b[0m     \u001b[38;5;28;01mreturn\u001b[39;00m \u001b[38;5;28mself\u001b[39m\u001b[38;5;241m.\u001b[39m_getitem_multilevel(key)\n\u001b[1;32m-> 4102\u001b[0m indexer \u001b[38;5;241m=\u001b[39m \u001b[38;5;28;43mself\u001b[39;49m\u001b[38;5;241;43m.\u001b[39;49m\u001b[43mcolumns\u001b[49m\u001b[38;5;241;43m.\u001b[39;49m\u001b[43mget_loc\u001b[49m\u001b[43m(\u001b[49m\u001b[43mkey\u001b[49m\u001b[43m)\u001b[49m\n\u001b[0;32m   4103\u001b[0m \u001b[38;5;28;01mif\u001b[39;00m is_integer(indexer):\n\u001b[0;32m   4104\u001b[0m     indexer \u001b[38;5;241m=\u001b[39m [indexer]\n",
      "File \u001b[1;32mc:\\Users\\00113294\\Anaconda3\\envs\\my_env\\Lib\\site-packages\\pandas\\core\\indexes\\base.py:3812\u001b[0m, in \u001b[0;36mIndex.get_loc\u001b[1;34m(self, key)\u001b[0m\n\u001b[0;32m   3807\u001b[0m     \u001b[38;5;28;01mif\u001b[39;00m \u001b[38;5;28misinstance\u001b[39m(casted_key, \u001b[38;5;28mslice\u001b[39m) \u001b[38;5;129;01mor\u001b[39;00m (\n\u001b[0;32m   3808\u001b[0m         \u001b[38;5;28misinstance\u001b[39m(casted_key, abc\u001b[38;5;241m.\u001b[39mIterable)\n\u001b[0;32m   3809\u001b[0m         \u001b[38;5;129;01mand\u001b[39;00m \u001b[38;5;28many\u001b[39m(\u001b[38;5;28misinstance\u001b[39m(x, \u001b[38;5;28mslice\u001b[39m) \u001b[38;5;28;01mfor\u001b[39;00m x \u001b[38;5;129;01min\u001b[39;00m casted_key)\n\u001b[0;32m   3810\u001b[0m     ):\n\u001b[0;32m   3811\u001b[0m         \u001b[38;5;28;01mraise\u001b[39;00m InvalidIndexError(key)\n\u001b[1;32m-> 3812\u001b[0m     \u001b[38;5;28;01mraise\u001b[39;00m \u001b[38;5;167;01mKeyError\u001b[39;00m(key) \u001b[38;5;28;01mfrom\u001b[39;00m \u001b[38;5;21;01merr\u001b[39;00m\n\u001b[0;32m   3813\u001b[0m \u001b[38;5;28;01mexcept\u001b[39;00m \u001b[38;5;167;01mTypeError\u001b[39;00m:\n\u001b[0;32m   3814\u001b[0m     \u001b[38;5;66;03m# If we have a listlike key, _check_indexing_error will raise\u001b[39;00m\n\u001b[0;32m   3815\u001b[0m     \u001b[38;5;66;03m#  InvalidIndexError. Otherwise we fall through and re-raise\u001b[39;00m\n\u001b[0;32m   3816\u001b[0m     \u001b[38;5;66;03m#  the TypeError.\u001b[39;00m\n\u001b[0;32m   3817\u001b[0m     \u001b[38;5;28mself\u001b[39m\u001b[38;5;241m.\u001b[39m_check_indexing_error(key)\n",
      "\u001b[1;31mKeyError\u001b[0m: 'G201_HOSP_N_1'"
     ]
    }
   ],
   "source": [
    "CHANGES3 = [\n",
    "    {\n",
    "        \"columns\": [\"G201_HOSP_N_1\"],\n",
    "        \"conditions\": (df[\"G201_HOSP_N_1\"] == 0),\n",
    "        \"value\": 88\n",
    "    },\n",
    "    {\n",
    "        \"columns\": [\"G201_HOSP_N_2\", \"G201_HOSP_N_3\", \"G201_HOSP_N_4\", \"G201_HOSP_N_5\", \"G201_HOSP_N_6\"],\n",
    "        \"conditions\": (df[\"G201_HOSP_N_2\"] == 0) & (df[\"G201_HOSP_ICD9_2\"] == \"88888\"),\n",
    "        \"value\": 88\n",
    "    }\n",
    "]"
   ]
  },
  {
   "cell_type": "markdown",
   "metadata": {},
   "source": [
    "### Testing datasets are equal where no changes are expected"
   ]
  },
  {
   "cell_type": "markdown",
   "metadata": {},
   "source": [
    "Firstly, let's test broadly by verifying that for all columns where no changes were made, the values should be equal."
   ]
  },
  {
   "cell_type": "code",
   "execution_count": 22,
   "metadata": {},
   "outputs": [],
   "source": [
    "#| export\n",
    "def filter_updated_for_comparison(df: DataFrame, # updated raw data\n",
    "                                  create: List[Dict[str, Any]], # variables to be created\n",
    "                                  ) -> DataFrame:\n",
    "    \"\"\"Filter out newly added variables.\"\"\"\n",
    "    return df[df.columns.difference(create, sort=False)]\n",
    "\n",
    "def filter_original_for_comparison(df: DataFrame, # original raw data\n",
    "                                   rename: Dict[str, str], # variables to be renamed\n",
    "                                   delete: List[str], # variables to be deleted\n",
    "                                   ) -> DataFrame:\n",
    "    \"\"\"Filter out deleted variables, and rename old variables for comparison.\"\"\"\n",
    "    return df[df.columns.difference(delete, sort=False)].rename(columns=rename)"
   ]
  },
  {
   "cell_type": "code",
   "execution_count": 23,
   "metadata": {},
   "outputs": [],
   "source": [
    "#| export\n",
    "def columns_with_data_changed(changes: List[Dict[str, Any]] # explicit changes\n",
    "                              ) -> List[str]:\n",
    "    \"\"\"Return a list of unique columns where data was changed.\"\"\"\n",
    "    return list({col for change in changes for col in change['columns']})"
   ]
  },
  {
   "cell_type": "code",
   "execution_count": 24,
   "metadata": {},
   "outputs": [],
   "source": [
    "#| export\n",
    "def test_data_eq(df1: DataFrame, # updated raw data\n",
    "                 df2: DataFrame, # original raw data\n",
    "                 ) -> None:\n",
    "    \"\"\"Verify two datasets are the same.\"\"\"\n",
    "    pd.testing.assert_frame_equal(df1, df2)\n",
    "\n",
    "def verify_data_unchanged_for_unchanged_columns(df1: DataFrame, # updated raw data\n",
    "                                                df2: DataFrame, # original raw data\n",
    "                                                changes: List[Dict[str, Any]] # explicit changes\n",
    "                                                ) -> None:\n",
    "    \"\"\"Verify the updated and original datasets remain unchanged except for all columns where no changes were implemented.\"\"\"\n",
    "    changed_columns = columns_with_data_changed(changes)\n",
    "    df1 = df1.drop(columns=changed_columns)\n",
    "    df2 = df2.drop(columns=changed_columns)\n",
    "    test_data_eq(df1, df2)"
   ]
  },
  {
   "cell_type": "code",
   "execution_count": 25,
   "metadata": {},
   "outputs": [],
   "source": [
    "df_new_filtered = filter_updated_for_comparison(df_new, CREATE)\n",
    "df_old_filtered = filter_original_for_comparison(df_old, RENAME, DELETE)"
   ]
  },
  {
   "cell_type": "code",
   "execution_count": 26,
   "metadata": {},
   "outputs": [],
   "source": [
    "verify_data_unchanged_for_unchanged_columns(df_new_filtered, df_old_filtered, CHANGES)"
   ]
  },
  {
   "cell_type": "markdown",
   "metadata": {},
   "source": [
    "Next, we'll investigate the columns where changes *were* applied, excluding for the IDs were the changes were applied; all columns besides those IDs should be equal."
   ]
  },
  {
   "cell_type": "code",
   "execution_count": 27,
   "metadata": {},
   "outputs": [],
   "source": [
    "#| export\n",
    "def verify_data_unchanged_for_changed_columns(df1: DataFrame, # updated raw data\n",
    "                                              df2: DataFrame, # original raw data\n",
    "                                              changes: List[Dict[str, Any]] # explicit changes\n",
    "                                              ) -> None:\n",
    "    \"\"\"Verify data remains identical for columns impacted by recoding for all IDs where no changes were implemented.\"\"\"\n",
    "    # Create a mask for changed cells\n",
    "    mask = pd.DataFrame(False, index=df1.index, columns=df1.columns)\n",
    "\n",
    "    for change in changes:\n",
    "        for col in change['columns']:\n",
    "            mask.loc[change['idx'], col] = True\n",
    "\n",
    "    test_data_eq(df1[~mask], df2[~mask])"
   ]
  },
  {
   "cell_type": "code",
   "execution_count": 28,
   "metadata": {},
   "outputs": [],
   "source": [
    "verify_data_unchanged_for_changed_columns(df_new_filtered, df_old_filtered, CHANGES)"
   ]
  },
  {
   "cell_type": "markdown",
   "metadata": {},
   "source": [
    "Now introduce a new change that's unrecorded, and verify the test fails"
   ]
  },
  {
   "cell_type": "code",
   "execution_count": 29,
   "metadata": {},
   "outputs": [],
   "source": [
    "df_new_filtered_changed = df_new_filtered.copy()\n",
    "df_new_filtered_changed.at[3, \"ABC3\"] = 0\n",
    "test_fail(verify_data_unchanged_for_changed_columns, args=(df_new_filtered_changed, df_old_filtered, CHANGES))"
   ]
  },
  {
   "cell_type": "code",
   "execution_count": 30,
   "metadata": {},
   "outputs": [],
   "source": [
    "#| export\n",
    "def test_data_created():\n",
    "    \"\"\"Verify that columns that were created...\"\"\"\n",
    "    pass"
   ]
  },
  {
   "cell_type": "code",
   "execution_count": 31,
   "metadata": {},
   "outputs": [],
   "source": [
    "#| export\n",
    "def run_full_test_suite(df1: DataFrame, # updated raw data\n",
    "                        df2: DataFrame, # original raw data\n",
    "                        create: List[Dict[str, Any]], # variables to be created\n",
    "                        rename: Dict[str, str], # variables to be renamed\n",
    "                        delete: List[str], # variables to be deleted\n",
    "                        changes: List[Dict[str, Any]] # explicit changes\n",
    "                        ) -> None:\n",
    "    \"\"\"Run all tests for validating data.\"\"\"\n",
    "    # Filter for matching columns to compare\n",
    "    df1_filtered = filter_updated_for_comparison(df1, create)\n",
    "    df2_filtered = filter_original_for_comparison(df2, rename, delete)\n",
    "\n",
    "    added, removed = reformat_crud(create, rename, delete)\n",
    "\n",
    "    # Validate columns\n",
    "    test_columns(df1, df2, added, removed)\n",
    "\n",
    "    # Validate raw data, not including variables that were created or deleted, and renaming the old variables to match for comparison\n",
    "    verify_changes(df1, changes)\n",
    "\n",
    "    # Confirm all data remains identical for columns that were not intended for change\n",
    "    verify_data_unchanged_for_unchanged_columns(df1_filtered, df2_filtered, changes)\n",
    "\n",
    "    # Confirm that for columns where changes were implemented, data remains the same for all IDs where no changes were intended\n",
    "    verify_data_unchanged_for_changed_columns(df1_filtered, df2_filtered, changes)\n",
    "\n",
    "    print(\"All tests run successfully.\")"
   ]
  },
  {
   "cell_type": "code",
   "execution_count": 32,
   "metadata": {},
   "outputs": [],
   "source": [
    "#| hide\n",
    "import nbdev; nbdev.nbdev_export()"
   ]
  }
 ],
 "metadata": {
  "kernelspec": {
   "display_name": "my_env",
   "language": "python",
   "name": "python3"
  },
  "language_info": {
   "codemirror_mode": {
    "name": "ipython",
    "version": 3
   },
   "file_extension": ".py",
   "mimetype": "text/x-python",
   "name": "python",
   "nbconvert_exporter": "python",
   "pygments_lexer": "ipython3",
   "version": "3.12.4"
  }
 },
 "nbformat": 4,
 "nbformat_minor": 2
}

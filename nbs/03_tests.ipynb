{
 "cells": [
  {
   "cell_type": "raw",
   "metadata": {
    "vscode": {
     "languageId": "raw"
    }
   },
   "source": [
    "---\n",
    "description: Functions for comparing and validating changes in a dataset\n",
    "output-file: tests.html\n",
    "title: Tests\n",
    "\n",
    "---\n",
    "\n"
   ]
  },
  {
   "cell_type": "code",
   "execution_count": 1,
   "metadata": {},
   "outputs": [],
   "source": [
    "#| default_exp tests"
   ]
  },
  {
   "cell_type": "code",
   "execution_count": 2,
   "metadata": {},
   "outputs": [],
   "source": [
    "#| hide\n",
    "from nbdev.showdoc import *\n",
    "from fastcore.test import *"
   ]
  },
  {
   "cell_type": "code",
   "execution_count": 3,
   "metadata": {},
   "outputs": [],
   "source": [
    "#| export\n",
    "from fastcore.utils import *\n",
    "import pandas as pd\n",
    "from pandas import DataFrame\n",
    "import numpy as np\n",
    "from typing import Dict, List, Tuple, Any\n",
    "\n",
    "from data_harmonising.data import *\n",
    "from data_harmonising.transforms import *\n",
    "\n",
    "import raine_tools as rn"
   ]
  },
  {
   "cell_type": "markdown",
   "metadata": {},
   "source": [
    "## Tests"
   ]
  },
  {
   "cell_type": "code",
   "execution_count": 4,
   "metadata": {},
   "outputs": [],
   "source": [
    "INPUT = \"../data/test/input.sav\"\n",
    "OUTPUT = \"../data/test/output.sav\""
   ]
  },
  {
   "cell_type": "markdown",
   "metadata": {},
   "source": [
    "Create test data"
   ]
  },
  {
   "cell_type": "code",
   "execution_count": 5,
   "metadata": {},
   "outputs": [],
   "source": [
    "data = {\n",
    "    \"ID\":   [0, 1, 2, 3, 4],\n",
    "    \"ABC1\": [1, 2, 3, 4, 5],\n",
    "    \"ABC2\": [1, 2, 3, 4, 5],\n",
    "    \"CBA3\": [1, 2, 3, 4, 5],\n",
    "    \"ABC4\": [1, 2, 3, 4, 5],\n",
    "    \"ABC5\": [1, 2, 3, 4, 5], \n",
    "}\n",
    "\n",
    "df = DataFrame(data)\n",
    "write_sav(INPUT, df, meta=None)"
   ]
  },
  {
   "cell_type": "markdown",
   "metadata": {},
   "source": [
    "Alter the data for comparison"
   ]
  },
  {
   "cell_type": "code",
   "execution_count": 6,
   "metadata": {},
   "outputs": [],
   "source": [
    "df, _ = read_sav(INPUT, index=\"ID\")"
   ]
  },
  {
   "cell_type": "code",
   "execution_count": 7,
   "metadata": {},
   "outputs": [],
   "source": [
    "conditions = [\n",
    "    {\"condition\": 1, \"value\": 10},\n",
    "    {\"condition\": lambda x: x > 3, \"value\": 1},\n",
    "    {\"condition\": lambda x: 1 < x < 4, \"value\": 5}\n",
    "]\n",
    "\n",
    "CREATE = [\n",
    "    {\n",
    "        \"target_col\": \"ABC6\",\n",
    "        \"condition_col\": \"ABC1\",\n",
    "        \"conditions\": conditions\n",
    "    },\n",
    "    {\n",
    "        \"target_col\": \"ABC7\",\n",
    "        \"condition_col\": \"ABC1\",\n",
    "        \"conditions\": conditions\n",
    "    }\n",
    "]\n",
    "\n",
    "df = create_variables(df, CREATE)"
   ]
  },
  {
   "cell_type": "code",
   "execution_count": 8,
   "metadata": {},
   "outputs": [],
   "source": [
    "DELETE = [\"ABC4\", \"ABC5\"]\n",
    "df = delete_variables(df, DELETE)"
   ]
  },
  {
   "cell_type": "code",
   "execution_count": 9,
   "metadata": {},
   "outputs": [],
   "source": [
    "RENAME = {\"CBA3\": \"ABC3\"}\n",
    "df = rename_variables(df, RENAME)"
   ]
  },
  {
   "cell_type": "markdown",
   "metadata": {},
   "source": [
    "Next, introduce changes to the raw data"
   ]
  },
  {
   "cell_type": "code",
   "execution_count": 10,
   "metadata": {},
   "outputs": [],
   "source": [
    "# Case 1: changing one value for one variable\n",
    "df.loc[0, [\"ABC1\"]] = 2\n",
    "# Case 2: changing multiple values for one variable\n",
    "df.loc[[0, 1], [\"ABC2\"]] = 0\n",
    "# Case 3: changing one value for multiple variables\n",
    "df.loc[[4], [\"ABC1\", \"ABC2\"]] = 9\n",
    "# Case 4: changing multiples values for multiple variables\n",
    "df.loc[[2, 3], [\"ABC1\", \"ABC2\"]] = -88\n",
    "# Case 5: changing values for a renamed variable\n",
    "df.loc[0, [\"ABC3\"]] = 0"
   ]
  },
  {
   "cell_type": "code",
   "execution_count": 11,
   "metadata": {},
   "outputs": [],
   "source": [
    "write_sav(OUTPUT, df, meta=None)"
   ]
  },
  {
   "cell_type": "markdown",
   "metadata": {},
   "source": [
    "Read and compare the files"
   ]
  },
  {
   "cell_type": "code",
   "execution_count": 12,
   "metadata": {},
   "outputs": [],
   "source": [
    "df_old, _ = read_sav(INPUT)\n",
    "df_new, _ = read_sav(OUTPUT)"
   ]
  },
  {
   "cell_type": "markdown",
   "metadata": {},
   "source": [
    "Check that the differences in variable names can all be attributed to the intentional changes; by creating, deleting, and renaming specified variables."
   ]
  },
  {
   "cell_type": "code",
   "execution_count": 13,
   "metadata": {},
   "outputs": [],
   "source": [
    "#| export\n",
    "def reformat_create(create: List[Dict[str, Any]] # variables to be created\n",
    "                    ) -> List[str]:\n",
    "    return [col['target_col'] for col in create]\n",
    "\n",
    "def reformat_crud(create: List[Dict[str, Any]], # variables to be created\n",
    "                  rename: Dict[str, str], # variables to be renamed\n",
    "                  delete: List[str], # variables to be deleted\n",
    "                  ) -> List[List[str]]:\n",
    "    created = reformat_create(create)\n",
    "    replaced = list(rename.keys())\n",
    "    updated = list(rename.values())\n",
    "    added = created + updated\n",
    "    removed = delete + replaced\n",
    "    return added, removed"
   ]
  },
  {
   "cell_type": "code",
   "execution_count": 14,
   "metadata": {},
   "outputs": [],
   "source": [
    "ADDED, REMOVED = reformat_crud(CREATE, RENAME, DELETE)"
   ]
  },
  {
   "cell_type": "code",
   "execution_count": 15,
   "metadata": {},
   "outputs": [],
   "source": [
    "#| export\n",
    "def test_columns(df1: DataFrame, # updated raw data\n",
    "                 df2: DataFrame, # original raw data\n",
    "                 added: List[str], # variables to be created\n",
    "                 removed: List[str], # old variables that were renamed\n",
    "                 ) -> None:\n",
    "    \"\"\"Verify only intended changes were made to columns.\"\"\"\n",
    "    unchanged = [col for col in df2.columns if col not in removed]\n",
    "\n",
    "    # Check all columns to be added exist\n",
    "    assert all([col in df1.columns for col in added])\n",
    "    # Check all columns to be removed do not exist\n",
    "    assert all([col not in df1.columns for col in removed])\n",
    "    # Check all other columns exist\n",
    "    assert all([col in df1.columns for col in unchanged])"
   ]
  },
  {
   "cell_type": "code",
   "execution_count": 16,
   "metadata": {},
   "outputs": [],
   "source": [
    "test_columns(df_new, df_old, ADDED, REMOVED)"
   ]
  },
  {
   "cell_type": "markdown",
   "metadata": {},
   "source": [
    "Next, we'll write tests that validate the actual raw data, comparing the original and updated data to ensure only intended changes were made."
   ]
  },
  {
   "cell_type": "code",
   "execution_count": 17,
   "metadata": {},
   "outputs": [],
   "source": [
    "#| export\n",
    "def verify_change(df: DataFrame, # updated dataset\n",
    "                  columns: List[str], # columns impacted\n",
    "                  idx: List[int], # IDs impacted\n",
    "                  value: int|str # new value\n",
    "                   ) -> None:\n",
    "    \"\"\"Verify that for corresponding columns and IDs specified, these changes were implemented.\"\"\"\n",
    "    assert np.all(df.loc[idx, columns] == value)\n",
    "\n",
    "def verify_changes(df: DataFrame, # updated dataset\n",
    "                   changes: List[Dict[str, Any]], # explicit changes\n",
    "                   ) -> None: \n",
    "    \"\"\"Run `verify_change` for each change specified in `changes` for the given dataframe.\"\"\"\n",
    "    for change in changes:\n",
    "        columns = change[\"columns\"]\n",
    "        idx = change[\"idx\"]\n",
    "        value = change[\"value\"]\n",
    "        verify_change(df, columns, idx, value)"
   ]
  },
  {
   "cell_type": "markdown",
   "metadata": {},
   "source": [
    "Verify that for corresponding columns and IDs specified, these changes were implemented.  \n",
    "Furthermore, verify that there are no other differences between the original and updated datasets."
   ]
  },
  {
   "cell_type": "code",
   "execution_count": 18,
   "metadata": {},
   "outputs": [],
   "source": [
    "CHANGES = [\n",
    "    {\n",
    "        \"columns\": [\"ABC1\"],\n",
    "        \"idx\": [0],\n",
    "        \"value\": 2,\n",
    "    },\n",
    "    {\n",
    "        \"columns\": [\"ABC2\"],\n",
    "        \"idx\": [0, 1],\n",
    "        \"value\": 0,\n",
    "    },\n",
    "    {\n",
    "        \"columns\": [\"ABC1\", \"ABC2\"],\n",
    "        \"idx\": [4],\n",
    "        \"value\": 9,\n",
    "    },\n",
    "    {\n",
    "        \"columns\": [\"ABC1\", \"ABC2\"],\n",
    "        \"idx\": [2, 3],\n",
    "        \"value\": -88,\n",
    "    },\n",
    "    {\n",
    "        \"columns\": [\"ABC3\"],\n",
    "        \"idx\": [0],\n",
    "        \"value\": 0\n",
    "    },\n",
    "]\n",
    "\n",
    "verify_changes(df, CHANGES)"
   ]
  },
  {
   "cell_type": "markdown",
   "metadata": {},
   "source": [
    "We'll then ensure that this fails when attempting to verify incorrect changes."
   ]
  },
  {
   "cell_type": "code",
   "execution_count": 19,
   "metadata": {},
   "outputs": [
    {
     "name": "stdout",
     "output_type": "stream",
     "text": [
      "Incorrect changes were succesfully detected.\n"
     ]
    }
   ],
   "source": [
    "FALSE_CHANGES = [\n",
    "    {\n",
    "        \"columns\": [\"ABC1\"],\n",
    "        \"idx\": [0],\n",
    "        \"value\": -88,\n",
    "    },\n",
    "]\n",
    "\n",
    "try:\n",
    "    verify_changes(df, FALSE_CHANGES)\n",
    "    raise ValueError(\"Error: incorrect changes passed.\")\n",
    "except AssertionError:\n",
    "    print(\"Incorrect changes were succesfully detected.\")"
   ]
  },
  {
   "cell_type": "markdown",
   "metadata": {},
   "source": [
    "This is a variation that's potentially more efficient; defining ALL changes for any given column once (could also be done for a given ID, but that makes less sense). However, it's possibly nicer to more explicitly separate each change thematically; greater separation to investigate changes which are made for different reasons."
   ]
  },
  {
   "cell_type": "code",
   "execution_count": 20,
   "metadata": {},
   "outputs": [],
   "source": [
    "CHANGES2 = [\n",
    "    {\n",
    "        \"column\": \"ABC1\",\n",
    "        \"value_to_idx\": {\n",
    "            2: [0],\n",
    "            9: [4],\n",
    "            -88: [2, 3]\n",
    "        }\n",
    "    },\n",
    "    {\n",
    "        \"column\": \"ABC2\",\n",
    "        \"value_to_idx\": {\n",
    "            0: [0, 1],\n",
    "            9: [4],\n",
    "            -88: [2, 3]\n",
    "        }\n",
    "    },\n",
    "]"
   ]
  },
  {
   "cell_type": "markdown",
   "metadata": {},
   "source": [
    "### Testing datasets are equal where no changes are expected"
   ]
  },
  {
   "cell_type": "markdown",
   "metadata": {},
   "source": [
    "Firstly, let's test broadly by verifying that for all columns where no changes were made, the values should be equal."
   ]
  },
  {
   "cell_type": "code",
   "execution_count": 21,
   "metadata": {},
   "outputs": [],
   "source": [
    "#| export\n",
    "def filter_updated_for_comparison(df: DataFrame, # updated raw data\n",
    "                                  create: List[Dict[str, Any]], # variables to be created\n",
    "                                  ) -> DataFrame:\n",
    "    \"\"\"Filter out newly added variables.\"\"\"\n",
    "    created = reformat_create(create)\n",
    "    return df[df.columns.difference(created, sort=False)]\n",
    "\n",
    "def filter_original_for_comparison(df: DataFrame, # original raw data\n",
    "                                   rename: Dict[str, str], # variables to be renamed\n",
    "                                   delete: List[str], # variables to be deleted\n",
    "                                   ) -> DataFrame:\n",
    "    \"\"\"Filter out deleted variables, and rename old variables for comparison.\"\"\"\n",
    "    return df[df.columns.difference(delete, sort=False)].rename(columns=rename)"
   ]
  },
  {
   "cell_type": "code",
   "execution_count": 22,
   "metadata": {},
   "outputs": [],
   "source": [
    "#| export\n",
    "def columns_with_data_changed(changes: List[Dict[str, Any]] # explicit changes\n",
    "                              ) -> List[str]:\n",
    "    \"\"\"Return a list of unique columns where data was changed.\"\"\"\n",
    "    return list({col for change in changes for col in change['columns']})"
   ]
  },
  {
   "cell_type": "code",
   "execution_count": null,
   "metadata": {},
   "outputs": [],
   "source": [
    "#| export\n",
    "def test_data_eq(df1: DataFrame, # updated raw data\n",
    "                 df2: DataFrame, # original raw data\n",
    "                 ) -> None:\n",
    "    \"\"\"Verify two datasets are the same.\"\"\"\n",
    "    pd.testing.assert_frame_equal(df1, df2)\n",
    "\n",
    "def verify_data_unchanged_for_unchanged_columns(df1: DataFrame, # updated raw data\n",
    "                                                df2: DataFrame, # original raw data\n",
    "                                                changes: List[Dict[str, Any]] # explicit changes\n",
    "                                                ) -> None:\n",
    "    \"\"\"Verify the updated and original datasets remain unchanged except for all columns where no changes were implemented.\"\"\"\n",
    "    changed_columns = columns_with_data_changed(changes)\n",
    "    df1 = df1.drop(columns=changed_columns)\n",
    "    df2 = df2.drop(columns=changed_columns)\n",
    "    test_data_eq(df1, df2)"
   ]
  },
  {
   "cell_type": "code",
   "execution_count": 24,
   "metadata": {},
   "outputs": [],
   "source": [
    "df_new_filtered = filter_updated_for_comparison(df_new, CREATE)\n",
    "df_old_filtered = filter_original_for_comparison(df_old, RENAME, DELETE)"
   ]
  },
  {
   "cell_type": "code",
   "execution_count": 25,
   "metadata": {},
   "outputs": [],
   "source": [
    "verify_data_unchanged_for_unchanged_columns(df_new_filtered, df_old_filtered, CHANGES)"
   ]
  },
  {
   "cell_type": "markdown",
   "metadata": {},
   "source": [
    "Next, we'll investigate the columns where changes *were* applied, excluding for the IDs were the changes were applied; all columns besides those IDs should be equal."
   ]
  },
  {
   "cell_type": "code",
   "execution_count": 26,
   "metadata": {},
   "outputs": [],
   "source": [
    "def verify_data_unchanged_for_changed_columns(df1: DataFrame, # updated raw data\n",
    "                                              df2: DataFrame, # original raw data\n",
    "                                              changes: Dict[str, List[int]]\n",
    "                                              ) -> None:\n",
    "    \"\"\"Verify data remains identical for columns impacted by recoding for all IDs where no changes were implemented.\"\"\"\n",
    "    # Create a mask for changed cells\n",
    "    mask = pd.DataFrame(False, index=df1.index, columns=df1.columns)\n",
    "\n",
    "    for change in changes:\n",
    "        for col in change['columns']:\n",
    "            mask.loc[change['idx'], col] = True\n",
    "\n",
    "    test_data_eq(df1[~mask], df2[~mask])"
   ]
  },
  {
   "cell_type": "markdown",
   "metadata": {},
   "source": [
    "Now introduce a new change that's unrecorded, and verify the test fails"
   ]
  },
  {
   "cell_type": "code",
   "execution_count": 35,
   "metadata": {},
   "outputs": [],
   "source": [
    "df_new_filtered_changed = df_new_filtered.copy()\n",
    "df_new_filtered_changed.at[3, \"ABC3\"] = 0\n",
    "test_fail(verify_data_unchanged_for_changed_columns, args=(df_new_filtered_changed, df_old_filtered, CHANGES))"
   ]
  },
  {
   "cell_type": "code",
   "execution_count": null,
   "metadata": {},
   "outputs": [],
   "source": [
    "#| export\n",
    "\n",
    "def test_data_unchanged(df1: DataFrame, # updated raw data\n",
    "                        df2: DataFrame, # original raw data\n",
    "                        added: List[str] = [], # columns which were added\n",
    "                        removed: List[str] = [], # columns which were removed\n",
    "                        ) -> bool:\n",
    "    \"\"\"Verify that columns without changes specified remain unchanged.\"\"\"\n",
    "    # new_cols = [col for col in df1.columns if col not in added]\n",
    "    # old_cols = [col for col in df2.columns if col not in removed]\n",
    "    # return pd.testing.assert_frame_equal(df1[new_cols], df2[old_cols])\n",
    "    pass\n",
    "\n",
    "\n",
    "def test_data_created():\n",
    "    \"\"\"Verify that columns that were created...\"\"\"\n",
    "    pass\n",
    "\n",
    "def test_data_renamed(df1: DataFrame, # updated raw data\n",
    "                      df2: DataFrame, # original raw data\n",
    "                      renamed: Dict[str, str] = {}, # columns which were renamed\n",
    "                      ) -> bool:\n",
    "    \"\"\"Verify that columns that were renamed...\"\"\"\n",
    "    pass"
   ]
  },
  {
   "cell_type": "code",
   "execution_count": null,
   "metadata": {},
   "outputs": [],
   "source": [
    "test_data_unchanged(df_new, df_old, ADDED, REMOVED)"
   ]
  },
  {
   "cell_type": "code",
   "execution_count": null,
   "metadata": {},
   "outputs": [],
   "source": [
    "#| hide\n",
    "import nbdev; nbdev.nbdev_export()"
   ]
  }
 ],
 "metadata": {
  "kernelspec": {
   "display_name": "my_env",
   "language": "python",
   "name": "python3"
  },
  "language_info": {
   "codemirror_mode": {
    "name": "ipython",
    "version": 3
   },
   "file_extension": ".py",
   "mimetype": "text/x-python",
   "name": "python",
   "nbconvert_exporter": "python",
   "pygments_lexer": "ipython3",
   "version": "3.12.4"
  }
 },
 "nbformat": 4,
 "nbformat_minor": 2
}

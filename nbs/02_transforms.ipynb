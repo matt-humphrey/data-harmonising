{
 "cells": [
  {
   "cell_type": "raw",
   "metadata": {
    "vscode": {
     "languageId": "raw"
    }
   },
   "source": [
    "---\n",
    "description: Functions and methods to transform data\n",
    "output-file: transforms.html\n",
    "title: Transforms\n",
    "\n",
    "---\n",
    "\n"
   ]
  },
  {
   "cell_type": "code",
   "execution_count": 1,
   "metadata": {},
   "outputs": [],
   "source": [
    "#| default_exp transforms"
   ]
  },
  {
   "cell_type": "code",
   "execution_count": 2,
   "metadata": {},
   "outputs": [],
   "source": [
    "#| hide\n",
    "from nbdev.showdoc import *\n",
    "from fastcore.test import *"
   ]
  },
  {
   "cell_type": "code",
   "execution_count": 3,
   "metadata": {},
   "outputs": [],
   "source": [
    "#| export\n",
    "from fastcore.utils import *\n",
    "import pandas as pd\n",
    "from pandas import DataFrame\n",
    "import numpy as np\n",
    "from typing import Dict, List, Tuple, Any\n",
    "\n",
    "from data_harmonising.data import *"
   ]
  },
  {
   "cell_type": "code",
   "execution_count": 4,
   "metadata": {},
   "outputs": [],
   "source": [
    "file = '../data/G201_Quest_PA.sav'\n",
    "df, meta = read_sav(file, index=\"ID\")\n",
    "data = Dataset(df, meta)"
   ]
  },
  {
   "cell_type": "markdown",
   "metadata": {},
   "source": [
    "## Create\n",
    "\n",
    "Add new variables to the dataset."
   ]
  },
  {
   "cell_type": "code",
   "execution_count": 5,
   "metadata": {},
   "outputs": [],
   "source": [
    "#| export\n",
    "# TODO: broaden it so it also accepts multiple condition_cols; responds differently depending on list or str?\n",
    "def apply_conditions(df: DataFrame, \n",
    "                     condition_col: str, \n",
    "                     conditions: List[Dict[str, Any]],\n",
    "                     default = np.nan\n",
    "                     ) -> np.ndarray:\n",
    "    \"\"\"Apply a series of conditions to a column and return the resulting values.\"\"\"\n",
    "    conditions_list = []\n",
    "    choices = []\n",
    "\n",
    "    for condition in conditions:\n",
    "        cond = condition['condition']\n",
    "        value = condition['value']\n",
    "        \n",
    "        if callable(cond):\n",
    "            conditions_list.append(df[condition_col].apply(cond))\n",
    "        else:\n",
    "            conditions_list.append(df[condition_col] == cond)\n",
    "        \n",
    "        choices.append(value)\n",
    "    \n",
    "    return np.select(conditions_list, choices, default=default)"
   ]
  },
  {
   "cell_type": "code",
   "execution_count": 6,
   "metadata": {},
   "outputs": [],
   "source": [
    "#| hide\n",
    "\n",
    "# Tests - refer to Injuries and Incidents G201"
   ]
  },
  {
   "cell_type": "code",
   "execution_count": 7,
   "metadata": {},
   "outputs": [],
   "source": [
    "#| export\n",
    "# TODO: decouple from apply_conditions; make separate/orthogonal such that functions can be composed sequentially\n",
    "def create_variables_with_conditions(df: DataFrame, # \n",
    "                     meta: DataFrame, # \n",
    "                     transformations: List[Dict[str, Any]] #  \n",
    "                     ) -> DataFrame: # \n",
    "    \"\"\"Create new variables based on conditions and concatenate them to the DataFrame.\"\"\"\n",
    "    new_columns = {}\n",
    "\n",
    "    for transformation in transformations:\n",
    "        target_col = transformation['target_col']\n",
    "        condition_col = transformation['condition_col']\n",
    "        conditions = transformation['conditions']\n",
    "\n",
    "        new_columns[target_col] = apply_conditions(df, condition_col, conditions)\n",
    "\n",
    "    # Create a new DataFrame with the new columns\n",
    "    new_df = DataFrame(new_columns, index=df.index)\n",
    "    # Concatenate the new columns to the original DataFrame\n",
    "    df = pd.concat([df, new_df], axis=1)\n",
    "\n",
    "    new_columns = list(new_columns.keys())\n",
    "    # Create new variables in metadata with no information (to later be harmonised)\n",
    "    meta[new_columns] = np.nan\n",
    "\n",
    "    return df, meta"
   ]
  },
  {
   "cell_type": "code",
   "execution_count": 8,
   "metadata": {},
   "outputs": [],
   "source": [
    "#| hide\n",
    "\n",
    "# Tests\n",
    "\n",
    "conditions = [\n",
    "    {\"condition\": 999, \"value\": 999},\n",
    "    {\"condition\": 88, \"value\": 0},\n",
    "    {\"condition\": lambda x: x not in [88, 999], \"value\": 1}\n",
    "]\n",
    "\n",
    "CREATE = [\n",
    "    {\n",
    "        \"target_col\": \"G201_IL\",\n",
    "        \"condition_col\": \"G201_IF1\",\n",
    "        \"conditions\": conditions\n",
    "    }\n",
    "]\n",
    "\n",
    "df, meta = create_variables_with_conditions(df, meta, CREATE)\n",
    "\n",
    "TEST = {\n",
    "    \"G201_IL\": \"G201_IF1\", \n",
    "}\n",
    "\n",
    "for target_col, condition_col in TEST.items():\n",
    "    assert all(df.loc[~df[condition_col].isin([88, 999]), target_col] == 1) \n",
    "    assert all(df.loc[df[condition_col] == 88, target_col] == 0) \n",
    "    assert all(df.loc[df[condition_col] == 999, target_col] == 999) "
   ]
  },
  {
   "cell_type": "code",
   "execution_count": 9,
   "metadata": {},
   "outputs": [],
   "source": [
    "#| export\n",
    "def reformat_create(create: List[Dict[str, Any]] # variables to be created\n",
    "                    ) -> List[str]:\n",
    "    return [col['target_col'] for col in create]"
   ]
  },
  {
   "cell_type": "markdown",
   "metadata": {},
   "source": [
    "Or for a far simpler approach, where you define the changes to be made later..."
   ]
  },
  {
   "cell_type": "code",
   "execution_count": 10,
   "metadata": {},
   "outputs": [],
   "source": [
    "#| export\n",
    "def create_variables(df: DataFrame, # data\n",
    "                     meta: DataFrame, # metadata\n",
    "                     vars: List[str] # list of variables to remove\n",
    "                     ) -> DataFrame:\n",
    "    df = df.assign(**{col: pd.NA for col in vars})\n",
    "    meta = meta.assign(**{col: pd.NA for col in vars})\n",
    "    \n",
    "    # Test variables were created\n",
    "    assert set(vars).issubset(df.columns)\n",
    "    assert set(vars).issubset(meta.columns)\n",
    "\n",
    "    return df, meta"
   ]
  },
  {
   "cell_type": "markdown",
   "metadata": {},
   "source": [
    "## Rename"
   ]
  },
  {
   "cell_type": "code",
   "execution_count": 11,
   "metadata": {},
   "outputs": [],
   "source": [
    "#| export\n",
    "def rename_variables(df: DataFrame, # data\n",
    "                     meta: DataFrame, # metadata\n",
    "                     vars: Dict[str, str]\n",
    "                     ) -> DataFrame:\n",
    "    df = df.rename(columns=vars)\n",
    "    meta = meta.rename(columns=vars)\n",
    "    \n",
    "    # Test changes successful\n",
    "    for original, updated in vars.items():\n",
    "        assert original not in df.columns\n",
    "        assert original not in meta.columns\n",
    "        assert updated in df.columns\n",
    "        assert updated in meta.columns\n",
    "    \n",
    "    return df, meta"
   ]
  },
  {
   "cell_type": "markdown",
   "metadata": {},
   "source": [
    "## Delete"
   ]
  },
  {
   "cell_type": "code",
   "execution_count": 12,
   "metadata": {},
   "outputs": [],
   "source": [
    "#| export\n",
    "def delete_variables(df: DataFrame, # data\n",
    "                     meta: DataFrame, # metadata\n",
    "                     vars: List[str] # list of variables to remove\n",
    "                     ) -> DataFrame:\n",
    "    df = df.drop(vars, axis=1)\n",
    "    meta = meta.drop(vars, axis=1)\n",
    "    \n",
    "    # Test variables have correctly been removed\n",
    "    set(vars).isdisjoint(df.columns)\n",
    "    set(vars).isdisjoint(meta.columns)\n",
    "\n",
    "    return df, meta"
   ]
  },
  {
   "cell_type": "markdown",
   "metadata": {},
   "source": [
    "## Update"
   ]
  },
  {
   "cell_type": "code",
   "execution_count": 13,
   "metadata": {},
   "outputs": [],
   "source": [
    "#| export\n",
    "def reformat_crud(create: List[Dict[str, Any]], # variables to be created\n",
    "                  rename: Dict[str, str], # variables to be renamed\n",
    "                  delete: List[str], # variables to be deleted\n",
    "                  ) -> List[List[str]]:\n",
    "    replaced = list(rename.keys())\n",
    "    updated = list(rename.values())\n",
    "    added = create + updated\n",
    "    removed = delete + replaced\n",
    "    return added, removed"
   ]
  },
  {
   "cell_type": "code",
   "execution_count": null,
   "metadata": {},
   "outputs": [],
   "source": []
  },
  {
   "cell_type": "code",
   "execution_count": 14,
   "metadata": {},
   "outputs": [],
   "source": [
    "#| hide\n",
    "import nbdev; nbdev.nbdev_export()"
   ]
  }
 ],
 "metadata": {
  "kernelspec": {
   "display_name": "my_env",
   "language": "python",
   "name": "python3"
  },
  "language_info": {
   "codemirror_mode": {
    "name": "ipython",
    "version": 3
   },
   "file_extension": ".py",
   "mimetype": "text/x-python",
   "name": "python",
   "nbconvert_exporter": "python",
   "pygments_lexer": "ipython3",
   "version": "3.12.4"
  }
 },
 "nbformat": 4,
 "nbformat_minor": 2
}
